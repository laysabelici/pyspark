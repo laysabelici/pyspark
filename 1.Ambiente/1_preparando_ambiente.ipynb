{
  "nbformat": 4,
  "nbformat_minor": 0,
  "metadata": {
    "colab": {
      "provenance": [],
      "authorship_tag": "ABX9TyMLECkKf59+D8Q9ShJF24dN",
      "include_colab_link": true
    },
    "kernelspec": {
      "name": "python3",
      "display_name": "Python 3"
    },
    "language_info": {
      "name": "python"
    }
  },
  "cells": [
    {
      "cell_type": "markdown",
      "metadata": {
        "id": "view-in-github",
        "colab_type": "text"
      },
      "source": [
        "<a href=\"https://colab.research.google.com/github/laysabelici/pyspark/blob/main/1_preparando_ambiente.ipynb\" target=\"_parent\"><img src=\"https://colab.research.google.com/assets/colab-badge.svg\" alt=\"Open In Colab\"/></a>"
      ]
    },
    {
      "cell_type": "code",
      "execution_count": null,
      "metadata": {
        "id": "uU5OjrHjqHX0"
      },
      "outputs": [],
      "source": [
        "#INSTALAR O SPARK NO COLAB\n",
        "!pip install pyspark py4j\n",
        "\n",
        "#IMPORTAR SPARK NO COLAB\n",
        "from pyspark.sql import SparkSession\n",
        "\n",
        "#CRIAR SESSÃO SPARK\n",
        "spark = SparkSession.builder.appName(\"ExemploPySpark\").getOrCreate()\n",
        "\n",
        "#OBTER CONTEXTO SPARK PARA A SESSÃO\n",
        "sc = spark.sparkContext"
      ]
    }
  ]
}

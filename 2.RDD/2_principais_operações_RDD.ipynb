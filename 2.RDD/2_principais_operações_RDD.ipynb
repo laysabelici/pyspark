{
  "nbformat": 4,
  "nbformat_minor": 0,
  "metadata": {
    "colab": {
      "provenance": [],
      "authorship_tag": "ABX9TyPcn72Jl2DXYUaHu52JZzka",
      "include_colab_link": true
    },
    "kernelspec": {
      "name": "python3",
      "display_name": "Python 3"
    },
    "language_info": {
      "name": "python"
    }
  },
  "cells": [
    {
      "cell_type": "markdown",
      "metadata": {
        "id": "view-in-github",
        "colab_type": "text"
      },
      "source": [
        "<a href=\"https://colab.research.google.com/github/laysabelici/pyspark/blob/main/2_principais_opera%C3%A7%C3%B5es_RDD.ipynb\" target=\"_parent\"><img src=\"https://colab.research.google.com/assets/colab-badge.svg\" alt=\"Open In Colab\"/></a>"
      ]
    },
    {
      "cell_type": "code",
      "execution_count": 1,
      "metadata": {
        "colab": {
          "base_uri": "https://localhost:8080/"
        },
        "id": "uU5OjrHjqHX0",
        "outputId": "e23193a6-18ab-4a2b-e387-7d3f63f03c71"
      },
      "outputs": [
        {
          "output_type": "stream",
          "name": "stdout",
          "text": [
            "Collecting pyspark\n",
            "  Downloading pyspark-3.5.0.tar.gz (316.9 MB)\n",
            "\u001b[2K     \u001b[90m━━━━━━━━━━━━━━━━━━━━━━━━━━━━━━━━━━━━━━━━\u001b[0m \u001b[32m316.9/316.9 MB\u001b[0m \u001b[31m3.9 MB/s\u001b[0m eta \u001b[36m0:00:00\u001b[0m\n",
            "\u001b[?25h  Preparing metadata (setup.py) ... \u001b[?25l\u001b[?25hdone\n",
            "Requirement already satisfied: py4j in /usr/local/lib/python3.10/dist-packages (0.10.9.7)\n",
            "Building wheels for collected packages: pyspark\n",
            "  Building wheel for pyspark (setup.py) ... \u001b[?25l\u001b[?25hdone\n",
            "  Created wheel for pyspark: filename=pyspark-3.5.0-py2.py3-none-any.whl size=317425345 sha256=cd43a3def7cee051d0fc868337bd5aa6b1ef16ca55da63c8a13b90dd7b036abe\n",
            "  Stored in directory: /root/.cache/pip/wheels/41/4e/10/c2cf2467f71c678cfc8a6b9ac9241e5e44a01940da8fbb17fc\n",
            "Successfully built pyspark\n",
            "Installing collected packages: pyspark\n",
            "Successfully installed pyspark-3.5.0\n"
          ]
        }
      ],
      "source": [
        "#INSTALAR O SPARK NO COLAB\n",
        "!pip install pyspark py4j\n",
        "\n",
        "#IMPORTAR SPARK NO COLAB\n",
        "from pyspark.sql import SparkSession\n",
        "\n",
        "#CRIAR SESSÃO SPARK\n",
        "spark = SparkSession.builder.appName(\"ExemploPySpark\").getOrCreate()\n",
        "\n",
        "#OBTER CONTEXTO SPARK PARA A SESSÃO\n",
        "sc = spark.sparkContext"
      ]
    },
    {
      "cell_type": "code",
      "source": [
        "#CRIAR UM RDD\n",
        "numeros = sc.parallelize ([1,2,3,4,5,6,7,8,9,10])"
      ],
      "metadata": {
        "id": "d_5FCup9rPbj"
      },
      "execution_count": 18,
      "outputs": []
    },
    {
      "cell_type": "code",
      "source": [
        "#MOSTRAR OS 5 PRIMEIROS ITENS DO RDD\n",
        "numeros.top(5)"
      ],
      "metadata": {
        "colab": {
          "base_uri": "https://localhost:8080/"
        },
        "id": "3Dy_8BvEreaL",
        "outputId": "bae0c058-ee82-402d-e5a3-1046c493755f"
      },
      "execution_count": 4,
      "outputs": [
        {
          "output_type": "execute_result",
          "data": {
            "text/plain": [
              "[9, 8, 7, 6, 5]"
            ]
          },
          "metadata": {},
          "execution_count": 4
        }
      ]
    },
    {
      "cell_type": "code",
      "source": [
        "#CONTAR OS 5 MAIORES ITENS DO RDD\n",
        "numeros.take(5)"
      ],
      "metadata": {
        "colab": {
          "base_uri": "https://localhost:8080/"
        },
        "id": "BPSWxxzWrWok",
        "outputId": "19a154ef-f01d-47e4-a7a1-6600188d5d4b"
      },
      "execution_count": 5,
      "outputs": [
        {
          "output_type": "execute_result",
          "data": {
            "text/plain": [
              "[1, 2, 3, 4, 5]"
            ]
          },
          "metadata": {},
          "execution_count": 5
        }
      ]
    },
    {
      "cell_type": "code",
      "source": [
        "#MOSTRA A COLEÇÃO DO RDD\n",
        "numeros.collect()"
      ],
      "metadata": {
        "colab": {
          "base_uri": "https://localhost:8080/"
        },
        "id": "M1GVd2sCrlXD",
        "outputId": "8c2f659c-a6f0-4543-e5b9-9997f97769bc"
      },
      "execution_count": 6,
      "outputs": [
        {
          "output_type": "execute_result",
          "data": {
            "text/plain": [
              "[1, 2, 3, 4, 5, 6, 7, 8, 9]"
            ]
          },
          "metadata": {},
          "execution_count": 6
        }
      ]
    },
    {
      "cell_type": "code",
      "source": [
        "#CONTAR ITENS\n",
        "numeros.count()"
      ],
      "metadata": {
        "colab": {
          "base_uri": "https://localhost:8080/"
        },
        "id": "yOtYP6GHrqTV",
        "outputId": "b66ad5c2-383b-4ffc-a858-dd52d06659ce"
      },
      "execution_count": 7,
      "outputs": [
        {
          "output_type": "execute_result",
          "data": {
            "text/plain": [
              "9"
            ]
          },
          "metadata": {},
          "execution_count": 7
        }
      ]
    },
    {
      "cell_type": "code",
      "source": [
        "#TOTAL DOS ITENS\n",
        "numeros.sum()"
      ],
      "metadata": {
        "colab": {
          "base_uri": "https://localhost:8080/"
        },
        "id": "_p6sH2TOsE_D",
        "outputId": "aba27e83-8947-4f16-e299-880d0cf1430f"
      },
      "execution_count": 8,
      "outputs": [
        {
          "output_type": "execute_result",
          "data": {
            "text/plain": [
              "45"
            ]
          },
          "metadata": {},
          "execution_count": 8
        }
      ]
    },
    {
      "cell_type": "code",
      "source": [
        "#MEDIANA\n",
        "numeros.mean()"
      ],
      "metadata": {
        "colab": {
          "base_uri": "https://localhost:8080/"
        },
        "id": "SNXeyyzUsNPK",
        "outputId": "b347f1fa-8526-4720-ee8d-696d1d8d4dcb"
      },
      "execution_count": 9,
      "outputs": [
        {
          "output_type": "execute_result",
          "data": {
            "text/plain": [
              "5.0"
            ]
          },
          "metadata": {},
          "execution_count": 9
        }
      ]
    },
    {
      "cell_type": "code",
      "source": [
        "#MAIOR\n",
        "numeros.max()"
      ],
      "metadata": {
        "colab": {
          "base_uri": "https://localhost:8080/"
        },
        "id": "WlDg64I6sQ4D",
        "outputId": "a93f76be-63b1-4fe7-c6ff-5cbea5eaf40a"
      },
      "execution_count": 10,
      "outputs": [
        {
          "output_type": "execute_result",
          "data": {
            "text/plain": [
              "9"
            ]
          },
          "metadata": {},
          "execution_count": 10
        }
      ]
    },
    {
      "cell_type": "code",
      "source": [
        "#MENOR\n",
        "numeros.min()"
      ],
      "metadata": {
        "colab": {
          "base_uri": "https://localhost:8080/"
        },
        "id": "USkFHQPRsWJT",
        "outputId": "d537eae5-2f16-44f2-d6ab-7adf3c5f15f6"
      },
      "execution_count": 11,
      "outputs": [
        {
          "output_type": "execute_result",
          "data": {
            "text/plain": [
              "1"
            ]
          },
          "metadata": {},
          "execution_count": 11
        }
      ]
    },
    {
      "cell_type": "code",
      "source": [
        "#DESVIO PADRÃO\n",
        "numeros.stdev()"
      ],
      "metadata": {
        "colab": {
          "base_uri": "https://localhost:8080/"
        },
        "id": "zmBdlgIysYPa",
        "outputId": "3d58a9fb-9447-4191-8e62-ea95277b3b58"
      },
      "execution_count": 12,
      "outputs": [
        {
          "output_type": "execute_result",
          "data": {
            "text/plain": [
              "2.581988897471611"
            ]
          },
          "metadata": {},
          "execution_count": 12
        }
      ]
    },
    {
      "cell_type": "code",
      "source": [
        "#FILTRO\n",
        "filtro = numeros.filter(lambda filtro: filtro>2)\n",
        "filtro.collect()"
      ],
      "metadata": {
        "colab": {
          "base_uri": "https://localhost:8080/"
        },
        "id": "jwXIFHi8sbsr",
        "outputId": "ce11e637-f488-48f6-f2d7-8555a3201ee9"
      },
      "execution_count": 13,
      "outputs": [
        {
          "output_type": "execute_result",
          "data": {
            "text/plain": [
              "[3, 4, 5, 6, 7, 8, 9]"
            ]
          },
          "metadata": {},
          "execution_count": 13
        }
      ]
    },
    {
      "cell_type": "code",
      "source": [
        "#AMOSTRA\n",
        "amostra = numeros.sample(True, 0.5, 1)\n",
        "amostra.collect()"
      ],
      "metadata": {
        "colab": {
          "base_uri": "https://localhost:8080/"
        },
        "id": "mt976saAsnY8",
        "outputId": "ba45ba3d-1c3c-465f-e218-a787cb179d39"
      },
      "execution_count": 14,
      "outputs": [
        {
          "output_type": "execute_result",
          "data": {
            "text/plain": [
              "[2, 3, 4, 7, 9, 9, 9, 9]"
            ]
          },
          "metadata": {},
          "execution_count": 14
        }
      ]
    },
    {
      "cell_type": "code",
      "source": [
        "#MAP\n",
        "mapa = numeros.map(lambda mapa: mapa*2)\n",
        "mapa.collect()"
      ],
      "metadata": {
        "colab": {
          "base_uri": "https://localhost:8080/"
        },
        "id": "ecoHsGzrszfj",
        "outputId": "1560b053-d0f8-4025-fb47-3db1a93ef013"
      },
      "execution_count": 15,
      "outputs": [
        {
          "output_type": "execute_result",
          "data": {
            "text/plain": [
              "[2, 4, 6, 8, 10, 12, 14, 16, 18]"
            ]
          },
          "metadata": {},
          "execution_count": 15
        }
      ]
    },
    {
      "cell_type": "code",
      "source": [
        "#NOVO RDD\n",
        "numeros2 = sc.parallelize([10, 11, 12, 13, 14, 15, 16, 17, 18, 19])"
      ],
      "metadata": {
        "id": "6Voc1BI_s_OL"
      },
      "execution_count": 16,
      "outputs": []
    },
    {
      "cell_type": "code",
      "source": [
        "#UNIÃO ENTRE RDD\n",
        "uniao = numeros.union(numeros2)\n",
        "uniao.collect()"
      ],
      "metadata": {
        "colab": {
          "base_uri": "https://localhost:8080/"
        },
        "id": "ln_AWQyVtQrj",
        "outputId": "3f749175-17e1-4fc4-de34-c237ef7f626b"
      },
      "execution_count": 19,
      "outputs": [
        {
          "output_type": "execute_result",
          "data": {
            "text/plain": [
              "[1, 2, 3, 4, 5, 6, 7, 8, 9, 10, 10, 11, 12, 13, 14, 15, 16, 17, 18, 19]"
            ]
          },
          "metadata": {},
          "execution_count": 19
        }
      ]
    },
    {
      "cell_type": "code",
      "source": [
        "#INTERSECÇÃO\n",
        "interseccao = numeros.intersection(numeros2)\n",
        "interseccao.collect()"
      ],
      "metadata": {
        "colab": {
          "base_uri": "https://localhost:8080/"
        },
        "id": "7DPXPDvltY_T",
        "outputId": "5666edb4-e1d0-40a0-d778-2f03d82dce6c"
      },
      "execution_count": 21,
      "outputs": [
        {
          "output_type": "execute_result",
          "data": {
            "text/plain": [
              "[10]"
            ]
          },
          "metadata": {},
          "execution_count": 21
        }
      ]
    },
    {
      "cell_type": "code",
      "source": [
        "#SUBTRAÇÃO\n",
        "subtrai = numeros.subtract(numeros2)\n",
        "subtrai.collect()"
      ],
      "metadata": {
        "colab": {
          "base_uri": "https://localhost:8080/"
        },
        "id": "P5TO1a98tq3D",
        "outputId": "54060f70-809a-404c-b8a5-d81b034b1e22"
      },
      "execution_count": 22,
      "outputs": [
        {
          "output_type": "execute_result",
          "data": {
            "text/plain": [
              "[4, 8, 1, 5, 9, 2, 6, 3, 7]"
            ]
          },
          "metadata": {},
          "execution_count": 22
        }
      ]
    },
    {
      "cell_type": "code",
      "source": [
        "#CARTESIANO\n",
        "cartesiano = numeros.cartesian(numeros2)\n",
        "cartesiano.collect()"
      ],
      "metadata": {
        "colab": {
          "base_uri": "https://localhost:8080/"
        },
        "id": "gLXZ1dpTt61z",
        "outputId": "5abd92e5-ee51-45ad-e549-700f76a36766"
      },
      "execution_count": 24,
      "outputs": [
        {
          "output_type": "execute_result",
          "data": {
            "text/plain": [
              "[(1, 10),\n",
              " (1, 11),\n",
              " (1, 12),\n",
              " (1, 13),\n",
              " (1, 14),\n",
              " (2, 10),\n",
              " (2, 11),\n",
              " (2, 12),\n",
              " (2, 13),\n",
              " (2, 14),\n",
              " (3, 10),\n",
              " (3, 11),\n",
              " (3, 12),\n",
              " (3, 13),\n",
              " (3, 14),\n",
              " (4, 10),\n",
              " (4, 11),\n",
              " (4, 12),\n",
              " (4, 13),\n",
              " (4, 14),\n",
              " (5, 10),\n",
              " (5, 11),\n",
              " (5, 12),\n",
              " (5, 13),\n",
              " (5, 14),\n",
              " (1, 15),\n",
              " (1, 16),\n",
              " (1, 17),\n",
              " (1, 18),\n",
              " (1, 19),\n",
              " (2, 15),\n",
              " (2, 16),\n",
              " (2, 17),\n",
              " (2, 18),\n",
              " (2, 19),\n",
              " (3, 15),\n",
              " (3, 16),\n",
              " (3, 17),\n",
              " (3, 18),\n",
              " (3, 19),\n",
              " (4, 15),\n",
              " (4, 16),\n",
              " (4, 17),\n",
              " (4, 18),\n",
              " (4, 19),\n",
              " (5, 15),\n",
              " (5, 16),\n",
              " (5, 17),\n",
              " (5, 18),\n",
              " (5, 19),\n",
              " (6, 10),\n",
              " (6, 11),\n",
              " (6, 12),\n",
              " (6, 13),\n",
              " (6, 14),\n",
              " (7, 10),\n",
              " (7, 11),\n",
              " (7, 12),\n",
              " (7, 13),\n",
              " (7, 14),\n",
              " (8, 10),\n",
              " (8, 11),\n",
              " (8, 12),\n",
              " (8, 13),\n",
              " (8, 14),\n",
              " (9, 10),\n",
              " (9, 11),\n",
              " (9, 12),\n",
              " (9, 13),\n",
              " (9, 14),\n",
              " (10, 10),\n",
              " (10, 11),\n",
              " (10, 12),\n",
              " (10, 13),\n",
              " (10, 14),\n",
              " (6, 15),\n",
              " (6, 16),\n",
              " (6, 17),\n",
              " (6, 18),\n",
              " (6, 19),\n",
              " (7, 15),\n",
              " (7, 16),\n",
              " (7, 17),\n",
              " (7, 18),\n",
              " (7, 19),\n",
              " (8, 15),\n",
              " (8, 16),\n",
              " (8, 17),\n",
              " (8, 18),\n",
              " (8, 19),\n",
              " (9, 15),\n",
              " (9, 16),\n",
              " (9, 17),\n",
              " (9, 18),\n",
              " (9, 19),\n",
              " (10, 15),\n",
              " (10, 16),\n",
              " (10, 17),\n",
              " (10, 18),\n",
              " (10, 19)]"
            ]
          },
          "metadata": {},
          "execution_count": 24
        }
      ]
    },
    {
      "cell_type": "code",
      "source": [
        "#CONTAR O PAR DE VEZES QUE CADA CARTESIANO APARECE\n",
        "cartesiano.countByValue()"
      ],
      "metadata": {
        "colab": {
          "base_uri": "https://localhost:8080/"
        },
        "id": "0KPzT2zvuDJA",
        "outputId": "6bceb8b7-2ab9-4db2-9ec0-06d7124bab12"
      },
      "execution_count": 25,
      "outputs": [
        {
          "output_type": "execute_result",
          "data": {
            "text/plain": [
              "defaultdict(int,\n",
              "            {(1, 10): 1,\n",
              "             (1, 11): 1,\n",
              "             (1, 12): 1,\n",
              "             (1, 13): 1,\n",
              "             (1, 14): 1,\n",
              "             (2, 10): 1,\n",
              "             (2, 11): 1,\n",
              "             (2, 12): 1,\n",
              "             (2, 13): 1,\n",
              "             (2, 14): 1,\n",
              "             (3, 10): 1,\n",
              "             (3, 11): 1,\n",
              "             (3, 12): 1,\n",
              "             (3, 13): 1,\n",
              "             (3, 14): 1,\n",
              "             (4, 10): 1,\n",
              "             (4, 11): 1,\n",
              "             (4, 12): 1,\n",
              "             (4, 13): 1,\n",
              "             (4, 14): 1,\n",
              "             (5, 10): 1,\n",
              "             (5, 11): 1,\n",
              "             (5, 12): 1,\n",
              "             (5, 13): 1,\n",
              "             (5, 14): 1,\n",
              "             (1, 15): 1,\n",
              "             (1, 16): 1,\n",
              "             (1, 17): 1,\n",
              "             (1, 18): 1,\n",
              "             (1, 19): 1,\n",
              "             (2, 15): 1,\n",
              "             (2, 16): 1,\n",
              "             (2, 17): 1,\n",
              "             (2, 18): 1,\n",
              "             (2, 19): 1,\n",
              "             (3, 15): 1,\n",
              "             (3, 16): 1,\n",
              "             (3, 17): 1,\n",
              "             (3, 18): 1,\n",
              "             (3, 19): 1,\n",
              "             (4, 15): 1,\n",
              "             (4, 16): 1,\n",
              "             (4, 17): 1,\n",
              "             (4, 18): 1,\n",
              "             (4, 19): 1,\n",
              "             (5, 15): 1,\n",
              "             (5, 16): 1,\n",
              "             (5, 17): 1,\n",
              "             (5, 18): 1,\n",
              "             (5, 19): 1,\n",
              "             (6, 10): 1,\n",
              "             (6, 11): 1,\n",
              "             (6, 12): 1,\n",
              "             (6, 13): 1,\n",
              "             (6, 14): 1,\n",
              "             (7, 10): 1,\n",
              "             (7, 11): 1,\n",
              "             (7, 12): 1,\n",
              "             (7, 13): 1,\n",
              "             (7, 14): 1,\n",
              "             (8, 10): 1,\n",
              "             (8, 11): 1,\n",
              "             (8, 12): 1,\n",
              "             (8, 13): 1,\n",
              "             (8, 14): 1,\n",
              "             (9, 10): 1,\n",
              "             (9, 11): 1,\n",
              "             (9, 12): 1,\n",
              "             (9, 13): 1,\n",
              "             (9, 14): 1,\n",
              "             (10, 10): 1,\n",
              "             (10, 11): 1,\n",
              "             (10, 12): 1,\n",
              "             (10, 13): 1,\n",
              "             (10, 14): 1,\n",
              "             (6, 15): 1,\n",
              "             (6, 16): 1,\n",
              "             (6, 17): 1,\n",
              "             (6, 18): 1,\n",
              "             (6, 19): 1,\n",
              "             (7, 15): 1,\n",
              "             (7, 16): 1,\n",
              "             (7, 17): 1,\n",
              "             (7, 18): 1,\n",
              "             (7, 19): 1,\n",
              "             (8, 15): 1,\n",
              "             (8, 16): 1,\n",
              "             (8, 17): 1,\n",
              "             (8, 18): 1,\n",
              "             (8, 19): 1,\n",
              "             (9, 15): 1,\n",
              "             (9, 16): 1,\n",
              "             (9, 17): 1,\n",
              "             (9, 18): 1,\n",
              "             (9, 19): 1,\n",
              "             (10, 15): 1,\n",
              "             (10, 16): 1,\n",
              "             (10, 17): 1,\n",
              "             (10, 18): 1,\n",
              "             (10, 19): 1})"
            ]
          },
          "metadata": {},
          "execution_count": 25
        }
      ]
    },
    {
      "cell_type": "code",
      "source": [],
      "metadata": {
        "id": "J2CML6yXvR1q"
      },
      "execution_count": null,
      "outputs": []
    }
  ]
}

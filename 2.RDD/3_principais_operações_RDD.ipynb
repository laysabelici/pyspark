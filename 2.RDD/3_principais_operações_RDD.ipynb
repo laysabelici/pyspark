{
  "nbformat": 4,
  "nbformat_minor": 0,
  "metadata": {
    "colab": {
      "provenance": [],
      "authorship_tag": "ABX9TyNcfS6fx3i+RKx/i6/OLs5X",
      "include_colab_link": true
    },
    "kernelspec": {
      "name": "python3",
      "display_name": "Python 3"
    },
    "language_info": {
      "name": "python"
    }
  },
  "cells": [
    {
      "cell_type": "markdown",
      "metadata": {
        "id": "view-in-github",
        "colab_type": "text"
      },
      "source": [
        "<a href=\"https://colab.research.google.com/github/laysabelici/pyspark/blob/main/3_principais_opera%C3%A7%C3%B5es_RDD.ipynb\" target=\"_parent\"><img src=\"https://colab.research.google.com/assets/colab-badge.svg\" alt=\"Open In Colab\"/></a>"
      ]
    },
    {
      "cell_type": "code",
      "execution_count": 1,
      "metadata": {
        "colab": {
          "base_uri": "https://localhost:8080/"
        },
        "id": "uU5OjrHjqHX0",
        "outputId": "e23193a6-18ab-4a2b-e387-7d3f63f03c71"
      },
      "outputs": [
        {
          "output_type": "stream",
          "name": "stdout",
          "text": [
            "Collecting pyspark\n",
            "  Downloading pyspark-3.5.0.tar.gz (316.9 MB)\n",
            "\u001b[2K     \u001b[90m━━━━━━━━━━━━━━━━━━━━━━━━━━━━━━━━━━━━━━━━\u001b[0m \u001b[32m316.9/316.9 MB\u001b[0m \u001b[31m3.9 MB/s\u001b[0m eta \u001b[36m0:00:00\u001b[0m\n",
            "\u001b[?25h  Preparing metadata (setup.py) ... \u001b[?25l\u001b[?25hdone\n",
            "Requirement already satisfied: py4j in /usr/local/lib/python3.10/dist-packages (0.10.9.7)\n",
            "Building wheels for collected packages: pyspark\n",
            "  Building wheel for pyspark (setup.py) ... \u001b[?25l\u001b[?25hdone\n",
            "  Created wheel for pyspark: filename=pyspark-3.5.0-py2.py3-none-any.whl size=317425345 sha256=cd43a3def7cee051d0fc868337bd5aa6b1ef16ca55da63c8a13b90dd7b036abe\n",
            "  Stored in directory: /root/.cache/pip/wheels/41/4e/10/c2cf2467f71c678cfc8a6b9ac9241e5e44a01940da8fbb17fc\n",
            "Successfully built pyspark\n",
            "Installing collected packages: pyspark\n",
            "Successfully installed pyspark-3.5.0\n"
          ]
        }
      ],
      "source": [
        "#INSTALAR O SPARK NO COLAB\n",
        "!pip install pyspark py4j\n",
        "\n",
        "#IMPORTAR SPARK NO COLAB\n",
        "from pyspark.sql import SparkSession\n",
        "\n",
        "#CRIAR SESSÃO SPARK\n",
        "spark = SparkSession.builder.appName(\"ExemploPySpark\").getOrCreate()\n",
        "\n",
        "#OBTER CONTEXTO SPARK PARA A SESSÃO\n",
        "sc = spark.sparkContext"
      ]
    },
    {
      "cell_type": "code",
      "source": [
        "#CRIAR RDD COMPRAS (CLIENTE, VALOR)\n",
        "compras = sc.parallelize ([\n",
        "    (1,200), (2,300), (3,120), (4,250), (5,78)\n",
        "])"
      ],
      "metadata": {
        "id": "d_5FCup9rPbj"
      },
      "execution_count": 27,
      "outputs": []
    },
    {
      "cell_type": "code",
      "source": [
        "#EXTRAIR APENAS AS CHAVES\n",
        "chaves = compras.keys()\n",
        "chaves.collect()"
      ],
      "metadata": {
        "colab": {
          "base_uri": "https://localhost:8080/"
        },
        "id": "Oi_Qv1pwyyky",
        "outputId": "bc7e43b9-f540-4f45-9410-00190bfa82b7"
      },
      "execution_count": 28,
      "outputs": [
        {
          "output_type": "execute_result",
          "data": {
            "text/plain": [
              "[1, 2, 3, 4, 5]"
            ]
          },
          "metadata": {},
          "execution_count": 28
        }
      ]
    },
    {
      "cell_type": "code",
      "source": [
        "#EXTRAIR APENAS OS VALORES\n",
        "valores = compras.keys()\n",
        "valores.collect()"
      ],
      "metadata": {
        "colab": {
          "base_uri": "https://localhost:8080/"
        },
        "id": "LGw2LKM8zABD",
        "outputId": "01902843-8ba4-4101-c26c-fd5787a3e46c"
      },
      "execution_count": 29,
      "outputs": [
        {
          "output_type": "execute_result",
          "data": {
            "text/plain": [
              "[1, 2, 3, 4, 5]"
            ]
          },
          "metadata": {},
          "execution_count": 29
        }
      ]
    },
    {
      "cell_type": "code",
      "source": [
        "#CONTAGEM POR CHAVE\n",
        "compras.countByKey()"
      ],
      "metadata": {
        "colab": {
          "base_uri": "https://localhost:8080/"
        },
        "id": "yEUeLYSEzGY6",
        "outputId": "f1c5cb69-9a11-4946-9509-fd7dbf16d035"
      },
      "execution_count": 30,
      "outputs": [
        {
          "output_type": "execute_result",
          "data": {
            "text/plain": [
              "defaultdict(int, {1: 1, 2: 1, 3: 1, 4: 1, 5: 1})"
            ]
          },
          "metadata": {},
          "execution_count": 30
        }
      ]
    },
    {
      "cell_type": "code",
      "source": [
        "#FUNÇÃO NO VALOR SEM ALTERAR A CHAVE\n",
        "soma = compras.mapValues(lambda soma: soma + 1)\n",
        "soma.collect()"
      ],
      "metadata": {
        "colab": {
          "base_uri": "https://localhost:8080/"
        },
        "id": "giemUzyuzteK",
        "outputId": "453b6753-e7b7-4e4d-d6b8-eadf46c084fa"
      },
      "execution_count": 31,
      "outputs": [
        {
          "output_type": "execute_result",
          "data": {
            "text/plain": [
              "[(1, 201), (2, 301), (3, 121), (4, 251), (5, 79)]"
            ]
          },
          "metadata": {},
          "execution_count": 31
        }
      ]
    },
    {
      "cell_type": "code",
      "source": [
        "#CRIAR RDD DÉBITOS\n",
        "debitos = sc.parallelize([\n",
        "    (1,20), (2,300)\n",
        "])"
      ],
      "metadata": {
        "id": "iDPNqExKz7my"
      },
      "execution_count": 38,
      "outputs": []
    },
    {
      "cell_type": "code",
      "source": [
        "#RESULTADO ENTRE COMPRAS E DÉBITO\n",
        "resultado = compras.join(debitos)\n",
        "resultado.collect()"
      ],
      "metadata": {
        "colab": {
          "base_uri": "https://localhost:8080/"
        },
        "id": "nFLA-kfd0NFS",
        "outputId": "c077ae5c-1db5-4f1c-e257-efd841be352d"
      },
      "execution_count": 39,
      "outputs": [
        {
          "output_type": "execute_result",
          "data": {
            "text/plain": [
              "[(1, (200, 20)), (2, (300, 300))]"
            ]
          },
          "metadata": {},
          "execution_count": 39
        }
      ]
    },
    {
      "cell_type": "code",
      "source": [
        "#MOSTRAR APENAS OS QUE NÃO TEM DÉBITO\n",
        "semdebito = compras.subtractByKey(debitos)\n",
        "semdebito.collect()"
      ],
      "metadata": {
        "colab": {
          "base_uri": "https://localhost:8080/"
        },
        "id": "oGqT3QdN0dhC",
        "outputId": "12e17b82-6403-41d4-8f33-4793eb3e9637"
      },
      "execution_count": 40,
      "outputs": [
        {
          "output_type": "execute_result",
          "data": {
            "text/plain": [
              "[(4, 250), (5, 78), (3, 120)]"
            ]
          },
          "metadata": {},
          "execution_count": 40
        }
      ]
    }
  ]
}

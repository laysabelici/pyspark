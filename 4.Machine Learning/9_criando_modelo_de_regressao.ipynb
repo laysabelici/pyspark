{
  "nbformat": 4,
  "nbformat_minor": 0,
  "metadata": {
    "colab": {
      "provenance": [],
      "authorship_tag": "ABX9TyP1jqytgCE4Zy9p9DxjRy6f",
      "include_colab_link": true
    },
    "kernelspec": {
      "name": "python3",
      "display_name": "Python 3"
    },
    "language_info": {
      "name": "python"
    }
  },
  "cells": [
    {
      "cell_type": "markdown",
      "metadata": {
        "id": "view-in-github",
        "colab_type": "text"
      },
      "source": [
        "<a href=\"https://colab.research.google.com/github/laysabelici/pyspark/blob/main/9_criando_modelo_de_regressao.ipynb\" target=\"_parent\"><img src=\"https://colab.research.google.com/assets/colab-badge.svg\" alt=\"Open In Colab\"/></a>"
      ]
    },
    {
      "cell_type": "code",
      "execution_count": 1,
      "metadata": {
        "colab": {
          "base_uri": "https://localhost:8080/"
        },
        "id": "NmvzKIveWqCf",
        "outputId": "b1380b95-25f9-499e-df7d-509237762929"
      },
      "outputs": [
        {
          "output_type": "stream",
          "name": "stdout",
          "text": [
            "Collecting pyspark\n",
            "  Downloading pyspark-3.5.0.tar.gz (316.9 MB)\n",
            "\u001b[2K     \u001b[90m━━━━━━━━━━━━━━━━━━━━━━━━━━━━━━━━━━━━━━━━\u001b[0m \u001b[32m316.9/316.9 MB\u001b[0m \u001b[31m2.8 MB/s\u001b[0m eta \u001b[36m0:00:00\u001b[0m\n",
            "\u001b[?25h  Preparing metadata (setup.py) ... \u001b[?25l\u001b[?25hdone\n",
            "Requirement already satisfied: py4j in /usr/local/lib/python3.10/dist-packages (0.10.9.7)\n",
            "Building wheels for collected packages: pyspark\n",
            "  Building wheel for pyspark (setup.py) ... \u001b[?25l\u001b[?25hdone\n",
            "  Created wheel for pyspark: filename=pyspark-3.5.0-py2.py3-none-any.whl size=317425345 sha256=9cf5acf30af95e31ef2d5595b145a19169903418dd45cc043bfaab51e48ad2be\n",
            "  Stored in directory: /root/.cache/pip/wheels/41/4e/10/c2cf2467f71c678cfc8a6b9ac9241e5e44a01940da8fbb17fc\n",
            "Successfully built pyspark\n",
            "Installing collected packages: pyspark\n",
            "Successfully installed pyspark-3.5.0\n"
          ]
        }
      ],
      "source": [
        "#INSTALAR O SPARK NO COLAB\n",
        "!pip install pyspark py4j\n",
        "\n",
        "#IMPORTAR SPARK NO COLAB\n",
        "from pyspark.sql import SparkSession\n",
        "\n",
        "#CRIAR SESSÃO SPARK\n",
        "spark = SparkSession.builder.appName(\"ExemploPySpark\").getOrCreate()\n",
        "\n",
        "#OBTER CONTEXTO SPARK PARA A SESSÃO\n",
        "sc = spark.sparkContext"
      ]
    },
    {
      "cell_type": "code",
      "source": [
        "#IMPORTAR BIBLIOTECAS\n",
        "from pyspark.ml.regression import LinearRegression, RandomForestRegressor"
      ],
      "metadata": {
        "id": "szJq3D_DX2wI"
      },
      "execution_count": 2,
      "outputs": []
    },
    {
      "cell_type": "code",
      "source": [
        "#IMPORTAR BIBLIOTECAS PARA AVALIAR PERFORMANCE DO MODELO\n",
        "from pyspark.ml.evaluation import  RegressionEvaluator"
      ],
      "metadata": {
        "id": "2rAf-gNtYOPT"
      },
      "execution_count": 3,
      "outputs": []
    },
    {
      "cell_type": "code",
      "source": [
        "#IMPORTAR BIBLIOTECAS HOTENDCODING\n",
        "from pyspark.ml.feature import VectorAssembler"
      ],
      "metadata": {
        "id": "ScpCLdARYYiG"
      },
      "execution_count": 4,
      "outputs": []
    },
    {
      "cell_type": "code",
      "source": [
        "#INGESTÃO DE DADOS\n",
        "from pyspark.sql.types import *"
      ],
      "metadata": {
        "id": "22r4FlPmYzVE"
      },
      "execution_count": 5,
      "outputs": []
    },
    {
      "cell_type": "code",
      "source": [
        "#IMPORT DADOS\n",
        "carros_temp = spark.read.csv('/spark/Carros.csv', inferSchema=True, header= True, sep=';')\n",
        "carros_temp.show(5)"
      ],
      "metadata": {
        "colab": {
          "base_uri": "https://localhost:8080/"
        },
        "id": "Rz0amaAXYoEW",
        "outputId": "0572808e-a2d0-4613-c836-820d058c4547"
      },
      "execution_count": 8,
      "outputs": [
        {
          "output_type": "stream",
          "name": "stdout",
          "text": [
            "+-------+---------+-----------+---------------+----+-----+---------+-----------+-------+-----------+---+\n",
            "|Consumo|Cilindros|Cilindradas|RelEixoTraseiro|Peso|Tempo|TipoMotor|Transmissao|Marchas|Carburadors| HP|\n",
            "+-------+---------+-----------+---------------+----+-----+---------+-----------+-------+-----------+---+\n",
            "|     21|        6|        160|             39| 262| 1646|        0|          1|      4|          4|110|\n",
            "|     21|        6|        160|             39|2875| 1702|        0|          1|      4|          4|110|\n",
            "|    228|        4|        108|            385| 232| 1861|        1|          1|      4|          1| 93|\n",
            "|    214|        6|        258|            308|3215| 1944|        1|          0|      3|          1|110|\n",
            "|    187|        8|        360|            315| 344| 1702|        0|          0|      3|          2|175|\n",
            "+-------+---------+-----------+---------------+----+-----+---------+-----------+-------+-----------+---+\n",
            "only showing top 5 rows\n",
            "\n"
          ]
        }
      ]
    },
    {
      "cell_type": "code",
      "source": [
        "#VAMOS PREVER A POTÊNCIA DO CARRO"
      ],
      "metadata": {
        "id": "J-suCEQwZPSv"
      },
      "execution_count": 9,
      "outputs": []
    },
    {
      "cell_type": "code",
      "source": [
        "#SEPARAR AS COLUNAS DESEJADAS PARA O MODELO\n",
        "carros = carros_temp.select('Consumo', 'Cilindros', 'Cilindradas', 'HP')\n",
        "carros.show(5)"
      ],
      "metadata": {
        "colab": {
          "base_uri": "https://localhost:8080/"
        },
        "id": "TnyZ6vGkZjc4",
        "outputId": "f41772bf-03f7-483d-a702-8c7c6805ad58"
      },
      "execution_count": 16,
      "outputs": [
        {
          "output_type": "stream",
          "name": "stdout",
          "text": [
            "+-------+---------+-----------+---+\n",
            "|Consumo|Cilindros|Cilindradas| HP|\n",
            "+-------+---------+-----------+---+\n",
            "|     21|        6|        160|110|\n",
            "|     21|        6|        160|110|\n",
            "|    228|        4|        108| 93|\n",
            "|    214|        6|        258|110|\n",
            "|    187|        8|        360|175|\n",
            "+-------+---------+-----------+---+\n",
            "only showing top 5 rows\n",
            "\n"
          ]
        }
      ]
    },
    {
      "cell_type": "code",
      "source": [
        "#CRIAR O VETOR DE CARACTERISTICAS (VARIÁVEIS INDEPENDENTES)"
      ],
      "metadata": {
        "id": "re6ZnbdIZyyW"
      },
      "execution_count": 12,
      "outputs": []
    },
    {
      "cell_type": "code",
      "source": [
        "#DEFINIR AS VARIÁVEIS INDEPENDENTES NO PARAMETRO\n",
        "veccaracteristicas = VectorAssembler(inputCols=[('Consumo'), ('Cilindros'), ('Cilindradas')], outputCol='caracteristicas')"
      ],
      "metadata": {
        "id": "lFPfVm9JaEk8"
      },
      "execution_count": 17,
      "outputs": []
    },
    {
      "cell_type": "code",
      "source": [
        "#AGORA VAMOS APLICAR O OBJETO CRIADO A VARIAVEL CARROS\n",
        "carros = veccaracteristicas.transform(carros)\n",
        "carros.show(5)"
      ],
      "metadata": {
        "colab": {
          "base_uri": "https://localhost:8080/"
        },
        "id": "RxcHqC7xa1rH",
        "outputId": "55e0ed40-c7e7-47de-d53d-f3e665231b53"
      },
      "execution_count": 18,
      "outputs": [
        {
          "output_type": "stream",
          "name": "stdout",
          "text": [
            "+-------+---------+-----------+---+-----------------+\n",
            "|Consumo|Cilindros|Cilindradas| HP|  caracteristicas|\n",
            "+-------+---------+-----------+---+-----------------+\n",
            "|     21|        6|        160|110| [21.0,6.0,160.0]|\n",
            "|     21|        6|        160|110| [21.0,6.0,160.0]|\n",
            "|    228|        4|        108| 93|[228.0,4.0,108.0]|\n",
            "|    214|        6|        258|110|[214.0,6.0,258.0]|\n",
            "|    187|        8|        360|175|[187.0,8.0,360.0]|\n",
            "+-------+---------+-----------+---+-----------------+\n",
            "only showing top 5 rows\n",
            "\n"
          ]
        }
      ]
    },
    {
      "cell_type": "code",
      "source": [
        "#DIVIDIR DADOS EM TREINO E TESTE\n",
        "carrosTreino, carrosTeste = carros.randomSplit([0.7, 0.3])\n",
        "print(carrosTreino.count())"
      ],
      "metadata": {
        "colab": {
          "base_uri": "https://localhost:8080/"
        },
        "id": "VKAPq73ma_OX",
        "outputId": "12b07921-aac1-457c-e9e4-d605206748bb"
      },
      "execution_count": 21,
      "outputs": [
        {
          "output_type": "stream",
          "name": "stdout",
          "text": [
            "22\n"
          ]
        }
      ]
    },
    {
      "cell_type": "code",
      "source": [
        "print(carrosTeste.count())"
      ],
      "metadata": {
        "colab": {
          "base_uri": "https://localhost:8080/"
        },
        "id": "OjTjcUbCbmWH",
        "outputId": "da255183-f58a-40e2-cbff-ea94338b2678"
      },
      "execution_count": 22,
      "outputs": [
        {
          "output_type": "stream",
          "name": "stdout",
          "text": [
            "10\n"
          ]
        }
      ]
    },
    {
      "cell_type": "code",
      "source": [
        "#CRIANDO MODELO DE REGRESSÃO\n",
        "reglin = LinearRegression(featuresCol='caracteristicas', labelCol='HP')\n",
        "modelo = reglin.fit(carrosTreino)"
      ],
      "metadata": {
        "id": "MkBIWWXrghfR"
      },
      "execution_count": 23,
      "outputs": []
    },
    {
      "cell_type": "code",
      "source": [
        "#PREVISÃO USANDO MODELO CRIADO\n",
        "previsao = modelo.transform(carrosTeste)\n",
        "previsao.show(5)"
      ],
      "metadata": {
        "colab": {
          "base_uri": "https://localhost:8080/"
        },
        "id": "2xk4s8N8kN3c",
        "outputId": "ef0aebc9-cb78-40e6-d7aa-22a4faa571cd"
      },
      "execution_count": 24,
      "outputs": [
        {
          "output_type": "stream",
          "name": "stdout",
          "text": [
            "+-------+---------+-----------+---+------------------+------------------+\n",
            "|Consumo|Cilindros|Cilindradas| HP|   caracteristicas|        prediction|\n",
            "+-------+---------+-----------+---+------------------+------------------+\n",
            "|     21|        6|        160|110|  [21.0,6.0,160.0]|171.89689474260376|\n",
            "|    133|        8|        350|245| [133.0,8.0,350.0]|215.74206164249188|\n",
            "|    152|        8|       2758|180|[152.0,8.0,2758.0]|  188.985470439663|\n",
            "|    155|        8|        318|150| [155.0,8.0,318.0]| 213.0743220660408|\n",
            "|    173|        8|       2758|180|[173.0,8.0,2758.0]| 186.1323298717644|\n",
            "+-------+---------+-----------+---+------------------+------------------+\n",
            "only showing top 5 rows\n",
            "\n"
          ]
        }
      ]
    },
    {
      "cell_type": "code",
      "source": [
        "#AVALIAR MODELO POR MÉTRICA DE PERFORMANCE\n",
        "avaliar = RegressionEvaluator(predictionCol='prediction', labelCol='HP', metricName='rmse')\n",
        "rmse = avaliar.evaluate(previsao)\n",
        "print(rmse)"
      ],
      "metadata": {
        "colab": {
          "base_uri": "https://localhost:8080/"
        },
        "id": "jb83bdJikbwW",
        "outputId": "87fb6d46-3223-4943-959b-ccc4198fcf70"
      },
      "execution_count": 25,
      "outputs": [
        {
          "output_type": "stream",
          "name": "stdout",
          "text": [
            "33.82672527105433\n"
          ]
        }
      ]
    },
    {
      "cell_type": "code",
      "source": [
        "#GERAR NOVO MODELO COM DADOS DE TESTE\n",
        "rfreg = RandomForestRegressor(featuresCol='caracteristicas', labelCol='HP')\n",
        "modelo2 = rfreg.fit(carrosTreino)"
      ],
      "metadata": {
        "id": "C3euOAGhk6kF"
      },
      "execution_count": 32,
      "outputs": []
    },
    {
      "cell_type": "code",
      "source": [
        "previsao2 = modelo2.transform(carrosTeste)\n",
        "previsao2.show(5)"
      ],
      "metadata": {
        "colab": {
          "base_uri": "https://localhost:8080/"
        },
        "id": "DJlBvafYmtKT",
        "outputId": "0d366ff6-7a9f-4071-dfd9-42c68be03bb3"
      },
      "execution_count": 33,
      "outputs": [
        {
          "output_type": "stream",
          "name": "stdout",
          "text": [
            "+-------+---------+-----------+---+------------------+------------------+\n",
            "|Consumo|Cilindros|Cilindradas| HP|   caracteristicas|        prediction|\n",
            "+-------+---------+-----------+---+------------------+------------------+\n",
            "|     21|        6|        160|110|  [21.0,6.0,160.0]|           125.475|\n",
            "|    133|        8|        350|245| [133.0,8.0,350.0]| 227.7276262626263|\n",
            "|    152|        8|       2758|180|[152.0,8.0,2758.0]|191.02554292929295|\n",
            "|    155|        8|        318|150| [155.0,8.0,318.0]| 196.3410984848485|\n",
            "|    173|        8|       2758|180|[173.0,8.0,2758.0]|167.79458333333332|\n",
            "+-------+---------+-----------+---+------------------+------------------+\n",
            "only showing top 5 rows\n",
            "\n"
          ]
        }
      ]
    },
    {
      "cell_type": "code",
      "source": [
        "#GERAR UMA MÉTRICA PARA SEGUNDA PREVISÃO\n",
        "rmse2 = avaliar.evaluate(previsao2)\n",
        "print(rmse2)"
      ],
      "metadata": {
        "colab": {
          "base_uri": "https://localhost:8080/"
        },
        "id": "wEUD0gi-m6sc",
        "outputId": "ff5d695f-bf53-4e22-9bec-c8c43fe45714"
      },
      "execution_count": 34,
      "outputs": [
        {
          "output_type": "stream",
          "name": "stdout",
          "text": [
            "28.595672235662512\n"
          ]
        }
      ]
    },
    {
      "cell_type": "code",
      "source": [
        "print(rmse)"
      ],
      "metadata": {
        "colab": {
          "base_uri": "https://localhost:8080/"
        },
        "id": "5845xA7loThV",
        "outputId": "379d09cb-2591-4541-fc87-59af7a5508b2"
      },
      "execution_count": 35,
      "outputs": [
        {
          "output_type": "stream",
          "name": "stdout",
          "text": [
            "33.82672527105433\n"
          ]
        }
      ]
    },
    {
      "cell_type": "code",
      "source": [],
      "metadata": {
        "id": "u90qCHdeoVbE"
      },
      "execution_count": null,
      "outputs": []
    }
  ]
}

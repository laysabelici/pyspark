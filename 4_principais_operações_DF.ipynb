{
  "nbformat": 4,
  "nbformat_minor": 0,
  "metadata": {
    "colab": {
      "provenance": [],
      "authorship_tag": "ABX9TyMKD89ucbqGwfuAvSn/fQ9z",
      "include_colab_link": true
    },
    "kernelspec": {
      "name": "python3",
      "display_name": "Python 3"
    },
    "language_info": {
      "name": "python"
    }
  },
  "cells": [
    {
      "cell_type": "markdown",
      "metadata": {
        "id": "view-in-github",
        "colab_type": "text"
      },
      "source": [
        "<a href=\"https://colab.research.google.com/github/laysabelici/pyspark/blob/main/4_principais_opera%C3%A7%C3%B5es_DF.ipynb\" target=\"_parent\"><img src=\"https://colab.research.google.com/assets/colab-badge.svg\" alt=\"Open In Colab\"/></a>"
      ]
    },
    {
      "cell_type": "code",
      "execution_count": null,
      "metadata": {
        "colab": {
          "base_uri": "https://localhost:8080/"
        },
        "id": "uU5OjrHjqHX0",
        "outputId": "e23193a6-18ab-4a2b-e387-7d3f63f03c71"
      },
      "outputs": [
        {
          "output_type": "stream",
          "name": "stdout",
          "text": [
            "Collecting pyspark\n",
            "  Downloading pyspark-3.5.0.tar.gz (316.9 MB)\n",
            "\u001b[2K     \u001b[90m━━━━━━━━━━━━━━━━━━━━━━━━━━━━━━━━━━━━━━━━\u001b[0m \u001b[32m316.9/316.9 MB\u001b[0m \u001b[31m3.9 MB/s\u001b[0m eta \u001b[36m0:00:00\u001b[0m\n",
            "\u001b[?25h  Preparing metadata (setup.py) ... \u001b[?25l\u001b[?25hdone\n",
            "Requirement already satisfied: py4j in /usr/local/lib/python3.10/dist-packages (0.10.9.7)\n",
            "Building wheels for collected packages: pyspark\n",
            "  Building wheel for pyspark (setup.py) ... \u001b[?25l\u001b[?25hdone\n",
            "  Created wheel for pyspark: filename=pyspark-3.5.0-py2.py3-none-any.whl size=317425345 sha256=cd43a3def7cee051d0fc868337bd5aa6b1ef16ca55da63c8a13b90dd7b036abe\n",
            "  Stored in directory: /root/.cache/pip/wheels/41/4e/10/c2cf2467f71c678cfc8a6b9ac9241e5e44a01940da8fbb17fc\n",
            "Successfully built pyspark\n",
            "Installing collected packages: pyspark\n",
            "Successfully installed pyspark-3.5.0\n"
          ]
        }
      ],
      "source": [
        "#INSTALAR O SPARK NO COLAB\n",
        "!pip install pyspark py4j\n",
        "\n",
        "#IMPORTAR SPARK NO COLAB\n",
        "from pyspark.sql import SparkSession\n",
        "\n",
        "#CRIAR SESSÃO SPARK\n",
        "spark = SparkSession.builder.appName(\"ExemploPySpark\").getOrCreate()\n",
        "\n",
        "#OBTER CONTEXTO SPARK PARA A SESSÃO\n",
        "sc = spark.sparkContext"
      ]
    },
    {
      "cell_type": "code",
      "source": [
        "#CRIAR DATAFRAME\n",
        "df1 = spark.createDataFrame([(\"Pedro\", 10), (\"Maria\", 30), (\"José\", 40)])"
      ],
      "metadata": {
        "id": "eFxWkOa6Gn_l"
      },
      "execution_count": 41,
      "outputs": []
    },
    {
      "cell_type": "code",
      "source": [
        "#VISUALIZAR O DATAFRAME\n",
        "df1.show()"
      ],
      "metadata": {
        "colab": {
          "base_uri": "https://localhost:8080/"
        },
        "id": "K5iNsCFMZnE-",
        "outputId": "068373b2-269f-490f-b6ed-e2f5bc7f7d10"
      },
      "execution_count": 43,
      "outputs": [
        {
          "output_type": "stream",
          "name": "stdout",
          "text": [
            "+-----+---+\n",
            "|   _1| _2|\n",
            "+-----+---+\n",
            "|Pedro| 10|\n",
            "|Maria| 30|\n",
            "| José| 40|\n",
            "+-----+---+\n",
            "\n"
          ]
        }
      ]
    },
    {
      "cell_type": "code",
      "source": [
        "#CRIAR O SCHEMA\n",
        "schema = \"Id INT, Nome STRING\"\n",
        "dados = [[1,\"Pedro\"],[2,\"Maria\"]]\n",
        "df2 = spark.createDataFrame(dados, schema)\n",
        "df2.show()"
      ],
      "metadata": {
        "colab": {
          "base_uri": "https://localhost:8080/"
        },
        "id": "tUyB_Xy6ZqHB",
        "outputId": "7fd866f4-b7fe-4643-84d1-ca3bd5b08e38"
      },
      "execution_count": 44,
      "outputs": [
        {
          "output_type": "stream",
          "name": "stdout",
          "text": [
            "+---+-----+\n",
            "| Id| Nome|\n",
            "+---+-----+\n",
            "|  1|Pedro|\n",
            "|  2|Maria|\n",
            "+---+-----+\n",
            "\n"
          ]
        }
      ]
    },
    {
      "cell_type": "code",
      "source": [
        "df2.show(1)"
      ],
      "metadata": {
        "colab": {
          "base_uri": "https://localhost:8080/"
        },
        "id": "kg5YfoJFaUNi",
        "outputId": "cbbe2cf6-0023-44fc-da77-5c94d58c5314"
      },
      "execution_count": 45,
      "outputs": [
        {
          "output_type": "stream",
          "name": "stdout",
          "text": [
            "+---+-----+\n",
            "| Id| Nome|\n",
            "+---+-----+\n",
            "|  1|Pedro|\n",
            "+---+-----+\n",
            "only showing top 1 row\n",
            "\n"
          ]
        }
      ]
    },
    {
      "cell_type": "code",
      "source": [
        "#COMANDOS DE SPARK EM SEQUÊNCIA\n",
        "from pyspark.sql.functions import sum"
      ],
      "metadata": {
        "id": "BlgTtctraXzg"
      },
      "execution_count": 46,
      "outputs": []
    },
    {
      "cell_type": "code",
      "source": [
        "schema2 = \"Produtos STRING, Vendas INT\"\n",
        "vendas = [['Caneta', 10],['Lápis', 20], ['Caneta', 40]]\n",
        "df3 = spark.createDataFrame(vendas, schema2)\n",
        "df3.show()"
      ],
      "metadata": {
        "colab": {
          "base_uri": "https://localhost:8080/"
        },
        "id": "sZE52HMVatqw",
        "outputId": "fb7c4e43-816b-428d-9bbf-b60b1020d8aa"
      },
      "execution_count": 47,
      "outputs": [
        {
          "output_type": "stream",
          "name": "stdout",
          "text": [
            "+--------+------+\n",
            "|Produtos|Vendas|\n",
            "+--------+------+\n",
            "|  Caneta|    10|\n",
            "|   Lápis|    20|\n",
            "|  Caneta|    40|\n",
            "+--------+------+\n",
            "\n"
          ]
        }
      ]
    },
    {
      "cell_type": "code",
      "source": [
        "df3.show(2)"
      ],
      "metadata": {
        "colab": {
          "base_uri": "https://localhost:8080/"
        },
        "id": "NCjkI-aGbEnZ",
        "outputId": "9bb2ed0e-09d5-4477-dc53-0377126133db"
      },
      "execution_count": 48,
      "outputs": [
        {
          "output_type": "stream",
          "name": "stdout",
          "text": [
            "+--------+------+\n",
            "|Produtos|Vendas|\n",
            "+--------+------+\n",
            "|  Caneta|    10|\n",
            "|   Lápis|    20|\n",
            "+--------+------+\n",
            "only showing top 2 rows\n",
            "\n"
          ]
        }
      ]
    },
    {
      "cell_type": "code",
      "source": [
        "#AGREGAR TOTAL DE VENDAS POR PRODUTO\n",
        "agrupado = df3.groupBy(\"Produtos\").agg(sum(\"Vendas\"))\n",
        "agrupado.show()"
      ],
      "metadata": {
        "colab": {
          "base_uri": "https://localhost:8080/"
        },
        "id": "nPoNEZKZbGcI",
        "outputId": "13370b34-f910-4402-9a1f-57c389769f09"
      },
      "execution_count": 49,
      "outputs": [
        {
          "output_type": "stream",
          "name": "stdout",
          "text": [
            "+--------+-----------+\n",
            "|Produtos|sum(Vendas)|\n",
            "+--------+-----------+\n",
            "|  Caneta|         50|\n",
            "|   Lápis|         20|\n",
            "+--------+-----------+\n",
            "\n"
          ]
        }
      ]
    },
    {
      "cell_type": "code",
      "source": [
        "agrupado = df3.groupBy(\"Produtos\").agg(sum(\"Vendas\")).show()"
      ],
      "metadata": {
        "colab": {
          "base_uri": "https://localhost:8080/"
        },
        "id": "l_4j4YhadXOS",
        "outputId": "579d26a1-fc4f-47f6-d05b-c94b6ee5bb03"
      },
      "execution_count": 50,
      "outputs": [
        {
          "output_type": "stream",
          "name": "stdout",
          "text": [
            "+--------+-----------+\n",
            "|Produtos|sum(Vendas)|\n",
            "+--------+-----------+\n",
            "|  Caneta|         50|\n",
            "|   Lápis|         20|\n",
            "+--------+-----------+\n",
            "\n"
          ]
        }
      ]
    },
    {
      "cell_type": "code",
      "source": [
        "#ORDENAR COLUNAS\n",
        "df3.select(\"Vendas\", \"Produtos\").show()"
      ],
      "metadata": {
        "colab": {
          "base_uri": "https://localhost:8080/"
        },
        "id": "svOOY8uKda1g",
        "outputId": "a9878a3a-df3e-4b97-990f-622de5cc070b"
      },
      "execution_count": 51,
      "outputs": [
        {
          "output_type": "stream",
          "name": "stdout",
          "text": [
            "+------+--------+\n",
            "|Vendas|Produtos|\n",
            "+------+--------+\n",
            "|    10|  Caneta|\n",
            "|    20|   Lápis|\n",
            "|    40|  Caneta|\n",
            "+------+--------+\n",
            "\n"
          ]
        }
      ]
    },
    {
      "cell_type": "code",
      "source": [
        "#CRIAR EXPRESSÕES OU CALCULOS\n",
        "from pyspark.sql.functions import expr"
      ],
      "metadata": {
        "id": "om9p-hL2dpe4"
      },
      "execution_count": 52,
      "outputs": []
    },
    {
      "cell_type": "code",
      "source": [
        "df3.select(\"Produtos\",\"Vendas\", expr(\"Vendas * 0.2\")).show()"
      ],
      "metadata": {
        "colab": {
          "base_uri": "https://localhost:8080/"
        },
        "id": "XogZF7YPd70v",
        "outputId": "5f1ee43a-d8d1-4bc6-b70e-4490b86ac0ea"
      },
      "execution_count": 53,
      "outputs": [
        {
          "output_type": "stream",
          "name": "stdout",
          "text": [
            "+--------+------+--------------+\n",
            "|Produtos|Vendas|(Vendas * 0.2)|\n",
            "+--------+------+--------------+\n",
            "|  Caneta|    10|           2.0|\n",
            "|   Lápis|    20|           4.0|\n",
            "|  Caneta|    40|           8.0|\n",
            "+--------+------+--------------+\n",
            "\n"
          ]
        }
      ]
    }
  ]
}
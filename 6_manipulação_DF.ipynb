{
  "nbformat": 4,
  "nbformat_minor": 0,
  "metadata": {
    "colab": {
      "provenance": [],
      "authorship_tag": "ABX9TyNxJy+vvNtAnIgYaQq+GP4J",
      "include_colab_link": true
    },
    "kernelspec": {
      "name": "python3",
      "display_name": "Python 3"
    },
    "language_info": {
      "name": "python"
    }
  },
  "cells": [
    {
      "cell_type": "markdown",
      "metadata": {
        "id": "view-in-github",
        "colab_type": "text"
      },
      "source": [
        "<a href=\"https://colab.research.google.com/github/laysabelici/pyspark/blob/main/6_manipula%C3%A7%C3%A3o_DF.ipynb\" target=\"_parent\"><img src=\"https://colab.research.google.com/assets/colab-badge.svg\" alt=\"Open In Colab\"/></a>"
      ]
    },
    {
      "cell_type": "code",
      "execution_count": null,
      "metadata": {
        "colab": {
          "base_uri": "https://localhost:8080/"
        },
        "id": "uU5OjrHjqHX0",
        "outputId": "e23193a6-18ab-4a2b-e387-7d3f63f03c71"
      },
      "outputs": [
        {
          "output_type": "stream",
          "name": "stdout",
          "text": [
            "Collecting pyspark\n",
            "  Downloading pyspark-3.5.0.tar.gz (316.9 MB)\n",
            "\u001b[2K     \u001b[90m━━━━━━━━━━━━━━━━━━━━━━━━━━━━━━━━━━━━━━━━\u001b[0m \u001b[32m316.9/316.9 MB\u001b[0m \u001b[31m3.9 MB/s\u001b[0m eta \u001b[36m0:00:00\u001b[0m\n",
            "\u001b[?25h  Preparing metadata (setup.py) ... \u001b[?25l\u001b[?25hdone\n",
            "Requirement already satisfied: py4j in /usr/local/lib/python3.10/dist-packages (0.10.9.7)\n",
            "Building wheels for collected packages: pyspark\n",
            "  Building wheel for pyspark (setup.py) ... \u001b[?25l\u001b[?25hdone\n",
            "  Created wheel for pyspark: filename=pyspark-3.5.0-py2.py3-none-any.whl size=317425345 sha256=cd43a3def7cee051d0fc868337bd5aa6b1ef16ca55da63c8a13b90dd7b036abe\n",
            "  Stored in directory: /root/.cache/pip/wheels/41/4e/10/c2cf2467f71c678cfc8a6b9ac9241e5e44a01940da8fbb17fc\n",
            "Successfully built pyspark\n",
            "Installing collected packages: pyspark\n",
            "Successfully installed pyspark-3.5.0\n"
          ]
        }
      ],
      "source": [
        "#INSTALAR O SPARK NO COLAB\n",
        "!pip install pyspark py4j\n",
        "\n",
        "#IMPORTAR SPARK NO COLAB\n",
        "from pyspark.sql import SparkSession\n",
        "\n",
        "#CRIAR SESSÃO SPARK\n",
        "spark = SparkSession.builder.appName(\"ExemploPySpark\").getOrCreate()\n",
        "\n",
        "#OBTER CONTEXTO SPARK PARA A SESSÃO\n",
        "sc = spark.sparkContext"
      ]
    },
    {
      "cell_type": "code",
      "source": [
        "#FILTRAR DADOS ATRAVÉS DE CONDIÇÃO LÓGICA\n",
        "from pyspark.sql import functions as Func"
      ],
      "metadata": {
        "id": "oixkVNEps5RX"
      },
      "execution_count": 64,
      "outputs": []
    },
    {
      "cell_type": "code",
      "source": [
        "despachantes = spark.read.csv(\"/spark/despachantes.csv\", header=False, schema=arqschema)\n",
        "despachantes.show()"
      ],
      "metadata": {
        "colab": {
          "base_uri": "https://localhost:8080/"
        },
        "id": "aGukR6SGtfwL",
        "outputId": "f7197acf-7290-4c98-cf7c-acc0a8a27cd5"
      },
      "execution_count": 69,
      "outputs": [
        {
          "output_type": "stream",
          "name": "stdout",
          "text": [
            "+---+-------------------+------+-------------+------+----------+\n",
            "| id|               nome|status|       cidade|vendas|      data|\n",
            "+---+-------------------+------+-------------+------+----------+\n",
            "|  1|   Carminda Pestana| Ativo|  Santa Maria|    23|2020-08-11|\n",
            "|  2|    Deolinda Vilela| Ativo|Novo Hamburgo|    34|2020-03-05|\n",
            "|  3|   Emídio Dornelles| Ativo| Porto Alegre|    34|2020-02-05|\n",
            "|  4|Felisbela Dornelles| Ativo| Porto Alegre|    36|2020-02-05|\n",
            "|  5|     Graça Ornellas| Ativo| Porto Alegre|    12|2020-02-05|\n",
            "|  6|   Matilde Rebouças| Ativo| Porto Alegre|    22|2019-01-05|\n",
            "|  7|    Noêmia   Orriça| Ativo|  Santa Maria|    45|2019-10-05|\n",
            "|  8|      Roque Vásquez| Ativo| Porto Alegre|    65|2020-03-05|\n",
            "|  9|      Uriel Queiroz| Ativo| Porto Alegre|    54|2018-05-05|\n",
            "| 10|   Viviana Sequeira| Ativo| Porto Alegre|     0|2020-09-05|\n",
            "+---+-------------------+------+-------------+------+----------+\n",
            "\n"
          ]
        }
      ]
    },
    {
      "cell_type": "code",
      "source": [
        "#APENAS VENDAS ACIMA DE 20\n",
        "despachantes.select(\"id\", \"nome\", \"vendas\").where(Func.col(\"vendas\")>20).show()"
      ],
      "metadata": {
        "colab": {
          "base_uri": "https://localhost:8080/"
        },
        "id": "25AHiwcXtI6G",
        "outputId": "48d4acd0-6310-4cf2-9ad2-c47c51b1e121"
      },
      "execution_count": 70,
      "outputs": [
        {
          "output_type": "stream",
          "name": "stdout",
          "text": [
            "+---+-------------------+------+\n",
            "| id|               nome|vendas|\n",
            "+---+-------------------+------+\n",
            "|  1|   Carminda Pestana|    23|\n",
            "|  2|    Deolinda Vilela|    34|\n",
            "|  3|   Emídio Dornelles|    34|\n",
            "|  4|Felisbela Dornelles|    36|\n",
            "|  6|   Matilde Rebouças|    22|\n",
            "|  7|    Noêmia   Orriça|    45|\n",
            "|  8|      Roque Vásquez|    65|\n",
            "|  9|      Uriel Queiroz|    54|\n",
            "+---+-------------------+------+\n",
            "\n"
          ]
        }
      ]
    },
    {
      "cell_type": "code",
      "source": [
        "#VENDAS MAIORES QUE 20 E MENOR QUE 40\n",
        "despachantes.select(\"id\", \"nome\", \"vendas\").where((Func.col(\"vendas\")>20)\n",
        "& (Func.col(\"vendas\") < 40)).show()"
      ],
      "metadata": {
        "colab": {
          "base_uri": "https://localhost:8080/"
        },
        "id": "rnabhZ_ltWaN",
        "outputId": "af82a2d2-bb7d-43e9-8ecf-1a12f432e20d"
      },
      "execution_count": 74,
      "outputs": [
        {
          "output_type": "stream",
          "name": "stdout",
          "text": [
            "+---+-------------------+------+\n",
            "| id|               nome|vendas|\n",
            "+---+-------------------+------+\n",
            "|  1|   Carminda Pestana|    23|\n",
            "|  2|    Deolinda Vilela|    34|\n",
            "|  3|   Emídio Dornelles|    34|\n",
            "|  4|Felisbela Dornelles|    36|\n",
            "|  6|   Matilde Rebouças|    22|\n",
            "+---+-------------------+------+\n",
            "\n"
          ]
        }
      ]
    },
    {
      "cell_type": "code",
      "source": [
        "#RENOMEAR NOME DE COLUNAS\n",
        "novodf = despachantes.withColumnRenamed(\"nome\", \"nomes\")\n",
        "novodf.columns"
      ],
      "metadata": {
        "colab": {
          "base_uri": "https://localhost:8080/"
        },
        "id": "Avtad9Tut1rF",
        "outputId": "ac0beca5-6a30-49c1-8ee4-f6ddd1f5e3ff"
      },
      "execution_count": 75,
      "outputs": [
        {
          "output_type": "execute_result",
          "data": {
            "text/plain": [
              "['id', 'nomes', 'status', 'cidade', 'vendas', 'data']"
            ]
          },
          "metadata": {},
          "execution_count": 75
        }
      ]
    },
    {
      "cell_type": "code",
      "source": [
        "#MUDAR O TIPO\n",
        "from pyspark.sql.functions import *\n",
        "despachantes2 = despachantes.withColumn(\"data2\", to_timestamp(Func.col(\"data\"),\n",
        "                                                                   \"yyyy-MM-dd\"))\n",
        "despachantes2.schema"
      ],
      "metadata": {
        "colab": {
          "base_uri": "https://localhost:8080/"
        },
        "id": "7sW-IXF7u1yp",
        "outputId": "1680dc48-805b-4b1a-8dc4-c75b6fd4a295"
      },
      "execution_count": 79,
      "outputs": [
        {
          "output_type": "execute_result",
          "data": {
            "text/plain": [
              "StructType([StructField('id', IntegerType(), True), StructField('nome', StringType(), True), StructField('status', StringType(), True), StructField('cidade', StringType(), True), StructField('vendas', IntegerType(), True), StructField('data', StringType(), True), StructField('data2', TimestampType(), True)])"
            ]
          },
          "metadata": {},
          "execution_count": 79
        }
      ]
    },
    {
      "cell_type": "code",
      "source": [
        "#OPERAÇÕES SOBRE DATAS\n",
        "despachantes2.select(year(\"data\")).show()\n",
        "despachantes2.select(year(\"data\")).distinct().show()\n",
        "despachantes2.select(\"nome\",year(\"data\")).orderBy(\"nome\").show()\n",
        "despachantes2.select(\"data\").groupBy(year(\"data\")).count().show()\n",
        "despachantes2.select(Func.sum(\"vendas\")).show()"
      ],
      "metadata": {
        "colab": {
          "base_uri": "https://localhost:8080/"
        },
        "id": "6rvsuVbuvT52",
        "outputId": "092dd7e8-1e5c-4c2c-8831-eb50daf47a33"
      },
      "execution_count": 80,
      "outputs": [
        {
          "output_type": "stream",
          "name": "stdout",
          "text": [
            "+----------+\n",
            "|year(data)|\n",
            "+----------+\n",
            "|      2020|\n",
            "|      2020|\n",
            "|      2020|\n",
            "|      2020|\n",
            "|      2020|\n",
            "|      2019|\n",
            "|      2019|\n",
            "|      2020|\n",
            "|      2018|\n",
            "|      2020|\n",
            "+----------+\n",
            "\n",
            "+----------+\n",
            "|year(data)|\n",
            "+----------+\n",
            "|      2018|\n",
            "|      2019|\n",
            "|      2020|\n",
            "+----------+\n",
            "\n",
            "+-------------------+----------+\n",
            "|               nome|year(data)|\n",
            "+-------------------+----------+\n",
            "|   Carminda Pestana|      2020|\n",
            "|    Deolinda Vilela|      2020|\n",
            "|   Emídio Dornelles|      2020|\n",
            "|Felisbela Dornelles|      2020|\n",
            "|     Graça Ornellas|      2020|\n",
            "|   Matilde Rebouças|      2019|\n",
            "|    Noêmia   Orriça|      2019|\n",
            "|      Roque Vásquez|      2020|\n",
            "|      Uriel Queiroz|      2018|\n",
            "|   Viviana Sequeira|      2020|\n",
            "+-------------------+----------+\n",
            "\n",
            "+----------+-----+\n",
            "|year(data)|count|\n",
            "+----------+-----+\n",
            "|      2018|    1|\n",
            "|      2019|    2|\n",
            "|      2020|    7|\n",
            "+----------+-----+\n",
            "\n",
            "+-----------+\n",
            "|sum(vendas)|\n",
            "+-----------+\n",
            "|        325|\n",
            "+-----------+\n",
            "\n"
          ]
        }
      ]
    },
    {
      "cell_type": "code",
      "source": [
        "#SALVAR EM DIRETÓRIOS\n",
        "despachantes.write.format(\"parquet\").save(\"/spark/dfimportparquet\")\n",
        "despachantes.write.format(\"csv\").save(\"/spark/dfimportcsv\")\n",
        "despachantes.write.format(\"json\").save(\"/spark/dfimportjson\")\n",
        "despachantes.write.format(\"orc\").save(\"/spark/dfimportorc\")"
      ],
      "metadata": {
        "id": "Hn_Jla8TwGvI"
      },
      "execution_count": 81,
      "outputs": []
    }
  ]
}